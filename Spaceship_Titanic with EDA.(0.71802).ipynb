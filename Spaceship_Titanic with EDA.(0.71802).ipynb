{
 "cells": [
  {
   "cell_type": "code",
   "execution_count": 2,
   "id": "72367649",
   "metadata": {},
   "outputs": [],
   "source": [
    "#LIBRARIES\n",
    "import numpy as np                                   #Linear algebra  #used for working with arrays\n",
    "import pandas as pd                                  #Analyze data.learning by reading\n",
    "import matplotlib.pyplot as plt                      #Data Visuallization\n",
    "import seaborn as sns                                #data visuallization library based on matplotlib\n",
    "from sklearn.preprocessing import LabelEncoder       #Converts categorical column into numerical column\n",
    "le=LabelEncoder()                                    #creating alias\n",
    "import warnings                                      #It ignores the warnings\n",
    "warnings.filterwarnings('ignore')                    #It ignores the warnings\n",
    "from sklearn.linear_model import LogisticRegression  #LogisticRegression\n",
    "from sklearn.tree import DecisionTreeClassifier      #DecisionTree\n",
    "from sklearn.ensemble import RandomForestClassifier  #Random Forest\n",
    "from sklearn.ensemble import AdaBoostClassifier      #AdaBoost(Boosting)\n",
    "from sklearn.tree import DecisionTreeClassifier      #Decision Tree\n",
    "from xgboost import XGBClassifier                    #Xgboost\n",
    "from sklearn.svm import SVC                          #Support Vector Machine\n",
    "from sklearn.naive_bayes import MultinomialNB        #Naive Bayes\n",
    "from sklearn.neighbors import KNeighborsClassifier   #K-Nearest Neighbour\n",
    "from imblearn.under_sampling import NearMiss         #Near Miss(Class Imbalance Technique)\n",
    "from sklearn.feature_selection import RFE            #Feature Selection\n",
    "from sklearn.tree import DecisionTreeClassifier      #Feature Selection\n",
    "from sklearn.metrics import confusion_matrix         #Confusion Matrix\n",
    "from sklearn.metrics import classification_report    #classification_report\n",
    "from sklearn.metrics import roc_auc_score            #AUC_ROC_Curve\n",
    "from sklearn.metrics import roc_curve                #AUC_ROC_Curve\n",
    "from scipy.stats import skew                         #used for solving mathematical, scientific, engineering, and technical problems"
   ]
  },
  {
   "cell_type": "markdown",
   "id": "74569984",
   "metadata": {},
   "source": [
    "# Spaceship Titanic\n",
    "#problem statement:  \n",
    "Predict which passengers are transported to an alternate dimension"
   ]
  },
  {
   "cell_type": "code",
   "execution_count": 3,
   "id": "1b042cb1",
   "metadata": {},
   "outputs": [],
   "source": [
    "#Reading the csv file with help of pandas library"
   ]
  },
  {
   "cell_type": "code",
   "execution_count": 4,
   "id": "64cd1fb0",
   "metadata": {},
   "outputs": [
    {
     "data": {
      "text/html": [
       "<div>\n",
       "<style scoped>\n",
       "    .dataframe tbody tr th:only-of-type {\n",
       "        vertical-align: middle;\n",
       "    }\n",
       "\n",
       "    .dataframe tbody tr th {\n",
       "        vertical-align: top;\n",
       "    }\n",
       "\n",
       "    .dataframe thead th {\n",
       "        text-align: right;\n",
       "    }\n",
       "</style>\n",
       "<table border=\"1\" class=\"dataframe\">\n",
       "  <thead>\n",
       "    <tr style=\"text-align: right;\">\n",
       "      <th></th>\n",
       "      <th>PassengerId</th>\n",
       "      <th>HomePlanet</th>\n",
       "      <th>CryoSleep</th>\n",
       "      <th>Cabin</th>\n",
       "      <th>Destination</th>\n",
       "      <th>Age</th>\n",
       "      <th>VIP</th>\n",
       "      <th>RoomService</th>\n",
       "      <th>FoodCourt</th>\n",
       "      <th>ShoppingMall</th>\n",
       "      <th>Spa</th>\n",
       "      <th>VRDeck</th>\n",
       "      <th>Name</th>\n",
       "      <th>Transported</th>\n",
       "    </tr>\n",
       "  </thead>\n",
       "  <tbody>\n",
       "    <tr>\n",
       "      <th>0</th>\n",
       "      <td>0001_01</td>\n",
       "      <td>Europa</td>\n",
       "      <td>False</td>\n",
       "      <td>B/0/P</td>\n",
       "      <td>TRAPPIST-1e</td>\n",
       "      <td>39.0</td>\n",
       "      <td>False</td>\n",
       "      <td>0.0</td>\n",
       "      <td>0.0</td>\n",
       "      <td>0.0</td>\n",
       "      <td>0.0</td>\n",
       "      <td>0.0</td>\n",
       "      <td>Maham Ofracculy</td>\n",
       "      <td>False</td>\n",
       "    </tr>\n",
       "    <tr>\n",
       "      <th>1</th>\n",
       "      <td>0002_01</td>\n",
       "      <td>Earth</td>\n",
       "      <td>False</td>\n",
       "      <td>F/0/S</td>\n",
       "      <td>TRAPPIST-1e</td>\n",
       "      <td>24.0</td>\n",
       "      <td>False</td>\n",
       "      <td>109.0</td>\n",
       "      <td>9.0</td>\n",
       "      <td>25.0</td>\n",
       "      <td>549.0</td>\n",
       "      <td>44.0</td>\n",
       "      <td>Juanna Vines</td>\n",
       "      <td>True</td>\n",
       "    </tr>\n",
       "    <tr>\n",
       "      <th>2</th>\n",
       "      <td>0003_01</td>\n",
       "      <td>Europa</td>\n",
       "      <td>False</td>\n",
       "      <td>A/0/S</td>\n",
       "      <td>TRAPPIST-1e</td>\n",
       "      <td>58.0</td>\n",
       "      <td>True</td>\n",
       "      <td>43.0</td>\n",
       "      <td>3576.0</td>\n",
       "      <td>0.0</td>\n",
       "      <td>6715.0</td>\n",
       "      <td>49.0</td>\n",
       "      <td>Altark Susent</td>\n",
       "      <td>False</td>\n",
       "    </tr>\n",
       "    <tr>\n",
       "      <th>3</th>\n",
       "      <td>0003_02</td>\n",
       "      <td>Europa</td>\n",
       "      <td>False</td>\n",
       "      <td>A/0/S</td>\n",
       "      <td>TRAPPIST-1e</td>\n",
       "      <td>33.0</td>\n",
       "      <td>False</td>\n",
       "      <td>0.0</td>\n",
       "      <td>1283.0</td>\n",
       "      <td>371.0</td>\n",
       "      <td>3329.0</td>\n",
       "      <td>193.0</td>\n",
       "      <td>Solam Susent</td>\n",
       "      <td>False</td>\n",
       "    </tr>\n",
       "    <tr>\n",
       "      <th>4</th>\n",
       "      <td>0004_01</td>\n",
       "      <td>Earth</td>\n",
       "      <td>False</td>\n",
       "      <td>F/1/S</td>\n",
       "      <td>TRAPPIST-1e</td>\n",
       "      <td>16.0</td>\n",
       "      <td>False</td>\n",
       "      <td>303.0</td>\n",
       "      <td>70.0</td>\n",
       "      <td>151.0</td>\n",
       "      <td>565.0</td>\n",
       "      <td>2.0</td>\n",
       "      <td>Willy Santantines</td>\n",
       "      <td>True</td>\n",
       "    </tr>\n",
       "    <tr>\n",
       "      <th>...</th>\n",
       "      <td>...</td>\n",
       "      <td>...</td>\n",
       "      <td>...</td>\n",
       "      <td>...</td>\n",
       "      <td>...</td>\n",
       "      <td>...</td>\n",
       "      <td>...</td>\n",
       "      <td>...</td>\n",
       "      <td>...</td>\n",
       "      <td>...</td>\n",
       "      <td>...</td>\n",
       "      <td>...</td>\n",
       "      <td>...</td>\n",
       "      <td>...</td>\n",
       "    </tr>\n",
       "    <tr>\n",
       "      <th>8688</th>\n",
       "      <td>9276_01</td>\n",
       "      <td>Europa</td>\n",
       "      <td>False</td>\n",
       "      <td>A/98/P</td>\n",
       "      <td>55 Cancri e</td>\n",
       "      <td>41.0</td>\n",
       "      <td>True</td>\n",
       "      <td>0.0</td>\n",
       "      <td>6819.0</td>\n",
       "      <td>0.0</td>\n",
       "      <td>1643.0</td>\n",
       "      <td>74.0</td>\n",
       "      <td>Gravior Noxnuther</td>\n",
       "      <td>False</td>\n",
       "    </tr>\n",
       "    <tr>\n",
       "      <th>8689</th>\n",
       "      <td>9278_01</td>\n",
       "      <td>Earth</td>\n",
       "      <td>True</td>\n",
       "      <td>G/1499/S</td>\n",
       "      <td>PSO J318.5-22</td>\n",
       "      <td>18.0</td>\n",
       "      <td>False</td>\n",
       "      <td>0.0</td>\n",
       "      <td>0.0</td>\n",
       "      <td>0.0</td>\n",
       "      <td>0.0</td>\n",
       "      <td>0.0</td>\n",
       "      <td>Kurta Mondalley</td>\n",
       "      <td>False</td>\n",
       "    </tr>\n",
       "    <tr>\n",
       "      <th>8690</th>\n",
       "      <td>9279_01</td>\n",
       "      <td>Earth</td>\n",
       "      <td>False</td>\n",
       "      <td>G/1500/S</td>\n",
       "      <td>TRAPPIST-1e</td>\n",
       "      <td>26.0</td>\n",
       "      <td>False</td>\n",
       "      <td>0.0</td>\n",
       "      <td>0.0</td>\n",
       "      <td>1872.0</td>\n",
       "      <td>1.0</td>\n",
       "      <td>0.0</td>\n",
       "      <td>Fayey Connon</td>\n",
       "      <td>True</td>\n",
       "    </tr>\n",
       "    <tr>\n",
       "      <th>8691</th>\n",
       "      <td>9280_01</td>\n",
       "      <td>Europa</td>\n",
       "      <td>False</td>\n",
       "      <td>E/608/S</td>\n",
       "      <td>55 Cancri e</td>\n",
       "      <td>32.0</td>\n",
       "      <td>False</td>\n",
       "      <td>0.0</td>\n",
       "      <td>1049.0</td>\n",
       "      <td>0.0</td>\n",
       "      <td>353.0</td>\n",
       "      <td>3235.0</td>\n",
       "      <td>Celeon Hontichre</td>\n",
       "      <td>False</td>\n",
       "    </tr>\n",
       "    <tr>\n",
       "      <th>8692</th>\n",
       "      <td>9280_02</td>\n",
       "      <td>Europa</td>\n",
       "      <td>False</td>\n",
       "      <td>E/608/S</td>\n",
       "      <td>TRAPPIST-1e</td>\n",
       "      <td>44.0</td>\n",
       "      <td>False</td>\n",
       "      <td>126.0</td>\n",
       "      <td>4688.0</td>\n",
       "      <td>0.0</td>\n",
       "      <td>0.0</td>\n",
       "      <td>12.0</td>\n",
       "      <td>Propsh Hontichre</td>\n",
       "      <td>True</td>\n",
       "    </tr>\n",
       "  </tbody>\n",
       "</table>\n",
       "<p>8693 rows × 14 columns</p>\n",
       "</div>"
      ],
      "text/plain": [
       "     PassengerId HomePlanet CryoSleep     Cabin    Destination   Age    VIP  \\\n",
       "0        0001_01     Europa     False     B/0/P    TRAPPIST-1e  39.0  False   \n",
       "1        0002_01      Earth     False     F/0/S    TRAPPIST-1e  24.0  False   \n",
       "2        0003_01     Europa     False     A/0/S    TRAPPIST-1e  58.0   True   \n",
       "3        0003_02     Europa     False     A/0/S    TRAPPIST-1e  33.0  False   \n",
       "4        0004_01      Earth     False     F/1/S    TRAPPIST-1e  16.0  False   \n",
       "...          ...        ...       ...       ...            ...   ...    ...   \n",
       "8688     9276_01     Europa     False    A/98/P    55 Cancri e  41.0   True   \n",
       "8689     9278_01      Earth      True  G/1499/S  PSO J318.5-22  18.0  False   \n",
       "8690     9279_01      Earth     False  G/1500/S    TRAPPIST-1e  26.0  False   \n",
       "8691     9280_01     Europa     False   E/608/S    55 Cancri e  32.0  False   \n",
       "8692     9280_02     Europa     False   E/608/S    TRAPPIST-1e  44.0  False   \n",
       "\n",
       "      RoomService  FoodCourt  ShoppingMall     Spa  VRDeck               Name  \\\n",
       "0             0.0        0.0           0.0     0.0     0.0    Maham Ofracculy   \n",
       "1           109.0        9.0          25.0   549.0    44.0       Juanna Vines   \n",
       "2            43.0     3576.0           0.0  6715.0    49.0      Altark Susent   \n",
       "3             0.0     1283.0         371.0  3329.0   193.0       Solam Susent   \n",
       "4           303.0       70.0         151.0   565.0     2.0  Willy Santantines   \n",
       "...           ...        ...           ...     ...     ...                ...   \n",
       "8688          0.0     6819.0           0.0  1643.0    74.0  Gravior Noxnuther   \n",
       "8689          0.0        0.0           0.0     0.0     0.0    Kurta Mondalley   \n",
       "8690          0.0        0.0        1872.0     1.0     0.0       Fayey Connon   \n",
       "8691          0.0     1049.0           0.0   353.0  3235.0   Celeon Hontichre   \n",
       "8692        126.0     4688.0           0.0     0.0    12.0   Propsh Hontichre   \n",
       "\n",
       "      Transported  \n",
       "0           False  \n",
       "1            True  \n",
       "2           False  \n",
       "3           False  \n",
       "4            True  \n",
       "...           ...  \n",
       "8688        False  \n",
       "8689        False  \n",
       "8690         True  \n",
       "8691        False  \n",
       "8692         True  \n",
       "\n",
       "[8693 rows x 14 columns]"
      ]
     },
     "execution_count": 4,
     "metadata": {},
     "output_type": "execute_result"
    }
   ],
   "source": [
    "space=pd.read_csv(r\"C:\\Users\\HP\\Desktop\\Spaceship Titanic\\train (7).csv\")\n",
    "space"
   ]
  },
  {
   "cell_type": "code",
   "execution_count": 5,
   "id": "301397ad",
   "metadata": {},
   "outputs": [
    {
     "ename": "FileNotFoundError",
     "evalue": "[Errno 2] No such file or directory: 'C:\\\\Users\\\\HP\\\\Desktop\\\\Spaceship Titanic\\\\test(9).csv'",
     "output_type": "error",
     "traceback": [
      "\u001b[1;31m---------------------------------------------------------------------------\u001b[0m",
      "\u001b[1;31mFileNotFoundError\u001b[0m                         Traceback (most recent call last)",
      "\u001b[1;32m~\\AppData\\Local\\Temp\\ipykernel_6944\\1617441723.py\u001b[0m in \u001b[0;36m<module>\u001b[1;34m\u001b[0m\n\u001b[1;32m----> 1\u001b[1;33m \u001b[0mspace_test\u001b[0m\u001b[1;33m=\u001b[0m\u001b[0mpd\u001b[0m\u001b[1;33m.\u001b[0m\u001b[0mread_csv\u001b[0m\u001b[1;33m(\u001b[0m\u001b[1;34mr\"C:\\Users\\HP\\Desktop\\Spaceship Titanic\\test(9).csv\"\u001b[0m\u001b[1;33m)\u001b[0m\u001b[1;33m\u001b[0m\u001b[1;33m\u001b[0m\u001b[0m\n\u001b[0m\u001b[0;32m      2\u001b[0m \u001b[0mspace_test\u001b[0m\u001b[1;33m\u001b[0m\u001b[1;33m\u001b[0m\u001b[0m\n",
      "\u001b[1;32m~\\anaconda\\lib\\site-packages\\pandas\\util\\_decorators.py\u001b[0m in \u001b[0;36mwrapper\u001b[1;34m(*args, **kwargs)\u001b[0m\n\u001b[0;32m    309\u001b[0m                     \u001b[0mstacklevel\u001b[0m\u001b[1;33m=\u001b[0m\u001b[0mstacklevel\u001b[0m\u001b[1;33m,\u001b[0m\u001b[1;33m\u001b[0m\u001b[1;33m\u001b[0m\u001b[0m\n\u001b[0;32m    310\u001b[0m                 )\n\u001b[1;32m--> 311\u001b[1;33m             \u001b[1;32mreturn\u001b[0m \u001b[0mfunc\u001b[0m\u001b[1;33m(\u001b[0m\u001b[1;33m*\u001b[0m\u001b[0margs\u001b[0m\u001b[1;33m,\u001b[0m \u001b[1;33m**\u001b[0m\u001b[0mkwargs\u001b[0m\u001b[1;33m)\u001b[0m\u001b[1;33m\u001b[0m\u001b[1;33m\u001b[0m\u001b[0m\n\u001b[0m\u001b[0;32m    312\u001b[0m \u001b[1;33m\u001b[0m\u001b[0m\n\u001b[0;32m    313\u001b[0m         \u001b[1;32mreturn\u001b[0m \u001b[0mwrapper\u001b[0m\u001b[1;33m\u001b[0m\u001b[1;33m\u001b[0m\u001b[0m\n",
      "\u001b[1;32m~\\anaconda\\lib\\site-packages\\pandas\\io\\parsers\\readers.py\u001b[0m in \u001b[0;36mread_csv\u001b[1;34m(filepath_or_buffer, sep, delimiter, header, names, index_col, usecols, squeeze, prefix, mangle_dupe_cols, dtype, engine, converters, true_values, false_values, skipinitialspace, skiprows, skipfooter, nrows, na_values, keep_default_na, na_filter, verbose, skip_blank_lines, parse_dates, infer_datetime_format, keep_date_col, date_parser, dayfirst, cache_dates, iterator, chunksize, compression, thousands, decimal, lineterminator, quotechar, quoting, doublequote, escapechar, comment, encoding, encoding_errors, dialect, error_bad_lines, warn_bad_lines, on_bad_lines, delim_whitespace, low_memory, memory_map, float_precision, storage_options)\u001b[0m\n\u001b[0;32m    676\u001b[0m     \u001b[0mkwds\u001b[0m\u001b[1;33m.\u001b[0m\u001b[0mupdate\u001b[0m\u001b[1;33m(\u001b[0m\u001b[0mkwds_defaults\u001b[0m\u001b[1;33m)\u001b[0m\u001b[1;33m\u001b[0m\u001b[1;33m\u001b[0m\u001b[0m\n\u001b[0;32m    677\u001b[0m \u001b[1;33m\u001b[0m\u001b[0m\n\u001b[1;32m--> 678\u001b[1;33m     \u001b[1;32mreturn\u001b[0m \u001b[0m_read\u001b[0m\u001b[1;33m(\u001b[0m\u001b[0mfilepath_or_buffer\u001b[0m\u001b[1;33m,\u001b[0m \u001b[0mkwds\u001b[0m\u001b[1;33m)\u001b[0m\u001b[1;33m\u001b[0m\u001b[1;33m\u001b[0m\u001b[0m\n\u001b[0m\u001b[0;32m    679\u001b[0m \u001b[1;33m\u001b[0m\u001b[0m\n\u001b[0;32m    680\u001b[0m \u001b[1;33m\u001b[0m\u001b[0m\n",
      "\u001b[1;32m~\\anaconda\\lib\\site-packages\\pandas\\io\\parsers\\readers.py\u001b[0m in \u001b[0;36m_read\u001b[1;34m(filepath_or_buffer, kwds)\u001b[0m\n\u001b[0;32m    573\u001b[0m \u001b[1;33m\u001b[0m\u001b[0m\n\u001b[0;32m    574\u001b[0m     \u001b[1;31m# Create the parser.\u001b[0m\u001b[1;33m\u001b[0m\u001b[1;33m\u001b[0m\u001b[0m\n\u001b[1;32m--> 575\u001b[1;33m     \u001b[0mparser\u001b[0m \u001b[1;33m=\u001b[0m \u001b[0mTextFileReader\u001b[0m\u001b[1;33m(\u001b[0m\u001b[0mfilepath_or_buffer\u001b[0m\u001b[1;33m,\u001b[0m \u001b[1;33m**\u001b[0m\u001b[0mkwds\u001b[0m\u001b[1;33m)\u001b[0m\u001b[1;33m\u001b[0m\u001b[1;33m\u001b[0m\u001b[0m\n\u001b[0m\u001b[0;32m    576\u001b[0m \u001b[1;33m\u001b[0m\u001b[0m\n\u001b[0;32m    577\u001b[0m     \u001b[1;32mif\u001b[0m \u001b[0mchunksize\u001b[0m \u001b[1;32mor\u001b[0m \u001b[0miterator\u001b[0m\u001b[1;33m:\u001b[0m\u001b[1;33m\u001b[0m\u001b[1;33m\u001b[0m\u001b[0m\n",
      "\u001b[1;32m~\\anaconda\\lib\\site-packages\\pandas\\io\\parsers\\readers.py\u001b[0m in \u001b[0;36m__init__\u001b[1;34m(self, f, engine, **kwds)\u001b[0m\n\u001b[0;32m    930\u001b[0m \u001b[1;33m\u001b[0m\u001b[0m\n\u001b[0;32m    931\u001b[0m         \u001b[0mself\u001b[0m\u001b[1;33m.\u001b[0m\u001b[0mhandles\u001b[0m\u001b[1;33m:\u001b[0m \u001b[0mIOHandles\u001b[0m \u001b[1;33m|\u001b[0m \u001b[1;32mNone\u001b[0m \u001b[1;33m=\u001b[0m \u001b[1;32mNone\u001b[0m\u001b[1;33m\u001b[0m\u001b[1;33m\u001b[0m\u001b[0m\n\u001b[1;32m--> 932\u001b[1;33m         \u001b[0mself\u001b[0m\u001b[1;33m.\u001b[0m\u001b[0m_engine\u001b[0m \u001b[1;33m=\u001b[0m \u001b[0mself\u001b[0m\u001b[1;33m.\u001b[0m\u001b[0m_make_engine\u001b[0m\u001b[1;33m(\u001b[0m\u001b[0mf\u001b[0m\u001b[1;33m,\u001b[0m \u001b[0mself\u001b[0m\u001b[1;33m.\u001b[0m\u001b[0mengine\u001b[0m\u001b[1;33m)\u001b[0m\u001b[1;33m\u001b[0m\u001b[1;33m\u001b[0m\u001b[0m\n\u001b[0m\u001b[0;32m    933\u001b[0m \u001b[1;33m\u001b[0m\u001b[0m\n\u001b[0;32m    934\u001b[0m     \u001b[1;32mdef\u001b[0m \u001b[0mclose\u001b[0m\u001b[1;33m(\u001b[0m\u001b[0mself\u001b[0m\u001b[1;33m)\u001b[0m\u001b[1;33m:\u001b[0m\u001b[1;33m\u001b[0m\u001b[1;33m\u001b[0m\u001b[0m\n",
      "\u001b[1;32m~\\anaconda\\lib\\site-packages\\pandas\\io\\parsers\\readers.py\u001b[0m in \u001b[0;36m_make_engine\u001b[1;34m(self, f, engine)\u001b[0m\n\u001b[0;32m   1214\u001b[0m             \u001b[1;31m# \"Union[str, PathLike[str], ReadCsvBuffer[bytes], ReadCsvBuffer[str]]\"\u001b[0m\u001b[1;33m\u001b[0m\u001b[1;33m\u001b[0m\u001b[0m\n\u001b[0;32m   1215\u001b[0m             \u001b[1;31m# , \"str\", \"bool\", \"Any\", \"Any\", \"Any\", \"Any\", \"Any\"\u001b[0m\u001b[1;33m\u001b[0m\u001b[1;33m\u001b[0m\u001b[0m\n\u001b[1;32m-> 1216\u001b[1;33m             self.handles = get_handle(  # type: ignore[call-overload]\n\u001b[0m\u001b[0;32m   1217\u001b[0m                 \u001b[0mf\u001b[0m\u001b[1;33m,\u001b[0m\u001b[1;33m\u001b[0m\u001b[1;33m\u001b[0m\u001b[0m\n\u001b[0;32m   1218\u001b[0m                 \u001b[0mmode\u001b[0m\u001b[1;33m,\u001b[0m\u001b[1;33m\u001b[0m\u001b[1;33m\u001b[0m\u001b[0m\n",
      "\u001b[1;32m~\\anaconda\\lib\\site-packages\\pandas\\io\\common.py\u001b[0m in \u001b[0;36mget_handle\u001b[1;34m(path_or_buf, mode, encoding, compression, memory_map, is_text, errors, storage_options)\u001b[0m\n\u001b[0;32m    784\u001b[0m         \u001b[1;32mif\u001b[0m \u001b[0mioargs\u001b[0m\u001b[1;33m.\u001b[0m\u001b[0mencoding\u001b[0m \u001b[1;32mand\u001b[0m \u001b[1;34m\"b\"\u001b[0m \u001b[1;32mnot\u001b[0m \u001b[1;32min\u001b[0m \u001b[0mioargs\u001b[0m\u001b[1;33m.\u001b[0m\u001b[0mmode\u001b[0m\u001b[1;33m:\u001b[0m\u001b[1;33m\u001b[0m\u001b[1;33m\u001b[0m\u001b[0m\n\u001b[0;32m    785\u001b[0m             \u001b[1;31m# Encoding\u001b[0m\u001b[1;33m\u001b[0m\u001b[1;33m\u001b[0m\u001b[0m\n\u001b[1;32m--> 786\u001b[1;33m             handle = open(\n\u001b[0m\u001b[0;32m    787\u001b[0m                 \u001b[0mhandle\u001b[0m\u001b[1;33m,\u001b[0m\u001b[1;33m\u001b[0m\u001b[1;33m\u001b[0m\u001b[0m\n\u001b[0;32m    788\u001b[0m                 \u001b[0mioargs\u001b[0m\u001b[1;33m.\u001b[0m\u001b[0mmode\u001b[0m\u001b[1;33m,\u001b[0m\u001b[1;33m\u001b[0m\u001b[1;33m\u001b[0m\u001b[0m\n",
      "\u001b[1;31mFileNotFoundError\u001b[0m: [Errno 2] No such file or directory: 'C:\\\\Users\\\\HP\\\\Desktop\\\\Spaceship Titanic\\\\test(9).csv'"
     ]
    }
   ],
   "source": [
    "space_test=pd.read_csv(r\"C:\\Users\\HP\\Desktop\\Spaceship Titanic\\test(9).csv\")\n",
    "space_test"
   ]
  },
  {
   "cell_type": "code",
   "execution_count": null,
   "id": "54b3130c",
   "metadata": {},
   "outputs": [],
   "source": [
    "space.columns"
   ]
  },
  {
   "cell_type": "code",
   "execution_count": null,
   "id": "b22ffdd9",
   "metadata": {},
   "outputs": [],
   "source": [
    "data1=space[\"PassengerId\"]\n",
    "#data1"
   ]
  },
  {
   "cell_type": "code",
   "execution_count": null,
   "id": "b45aa65b",
   "metadata": {},
   "outputs": [],
   "source": [
    "space=space.drop([\"PassengerId\",\"Cabin\",],axis=1)"
   ]
  },
  {
   "cell_type": "code",
   "execution_count": null,
   "id": "93f25753",
   "metadata": {},
   "outputs": [],
   "source": [
    "#Null Value Treatment\n",
    "space.isnull().sum()"
   ]
  },
  {
   "cell_type": "code",
   "execution_count": null,
   "id": "c4a3b7b8",
   "metadata": {},
   "outputs": [],
   "source": [
    "#space.Name.value_counts()"
   ]
  },
  {
   "cell_type": "code",
   "execution_count": null,
   "id": "b8b4d30b",
   "metadata": {},
   "outputs": [],
   "source": [
    "#Null value treatment using fillna\n",
    "space.HomePlanet=space.HomePlanet.fillna(\"Mars\")\n",
    "space.CryoSleep=space.CryoSleep.fillna(True)\n",
    "space.Destination=space.Destination.fillna(\"PSO J318.5-22\")\n",
    "space.VIP=space.VIP.fillna(True)\n",
    "space.Spa=space.Spa.fillna(0.0)\n",
    "space.VRDeck=space.VRDeck.fillna(0.0)\n",
    "space.ShoppingMall=space.ShoppingMall.fillna(0.0)\n",
    "space.FoodCourt=space.FoodCourt.fillna(0.0)                                             \n",
    "space.RoomService=space.RoomService.fillna(0.0)\n",
    "space.Age=space.Age.fillna(space.Age.mean())  \n",
    "space.Name=space.Name.fillna(\"Unknown\")"
   ]
  },
  {
   "cell_type": "code",
   "execution_count": null,
   "id": "0f3e6911",
   "metadata": {},
   "outputs": [],
   "source": [
    "#space.isnull().sum()"
   ]
  },
  {
   "cell_type": "code",
   "execution_count": null,
   "id": "f1ee99d9",
   "metadata": {},
   "outputs": [],
   "source": [
    "space.dtypes"
   ]
  },
  {
   "cell_type": "code",
   "execution_count": null,
   "id": "52c84b86",
   "metadata": {},
   "outputs": [],
   "source": [
    "#converting categorical colimn into numerical column using LabelEncoder\n",
    "space.HomePlanet=le.fit_transform(space.HomePlanet)\n",
    "space.Destination=le.fit_transform(space.Destination)\n",
    "space.Name=le.fit_transform(space.Name)"
   ]
  },
  {
   "cell_type": "code",
   "execution_count": null,
   "id": "95bf461f",
   "metadata": {},
   "outputs": [],
   "source": [
    "#converting categorical colimn into numerical column using replace\n",
    "space.CryoSleep.replace({False:0,True:1},inplace=True)\n",
    "space.Transported.replace({False:0,True:1},inplace=True)\n",
    "space.VIP.replace({False:0,True:1},inplace=True)"
   ]
  },
  {
   "cell_type": "code",
   "execution_count": null,
   "id": "a09cd4e8",
   "metadata": {},
   "outputs": [],
   "source": [
    "#Correlation plot\n",
    "cr=space.corr()\n",
    "cr"
   ]
  },
  {
   "cell_type": "code",
   "execution_count": null,
   "id": "c2595719",
   "metadata": {},
   "outputs": [],
   "source": [
    "#Heatmap\n",
    "plt.figure(figsize=(15,10))\n",
    "heatmap=sns.heatmap(cr,linewidth=1,annot=True,cmap=plt.cm.Blues)\n",
    "plt.title(\"Dataplot\")\n",
    "plt.show()"
   ]
  },
  {
   "cell_type": "markdown",
   "id": "d5668126",
   "metadata": {},
   "source": [
    "# Outliers Treatment"
   ]
  },
  {
   "cell_type": "code",
   "execution_count": null,
   "id": "6f349452",
   "metadata": {},
   "outputs": [],
   "source": [
    "space.boxplot(figsize=(15,15))"
   ]
  },
  {
   "cell_type": "code",
   "execution_count": null,
   "id": "18c8db0e",
   "metadata": {},
   "outputs": [],
   "source": [
    "# from boxplot seven features have the outliers this are Homeplanet, Age, VIP, Roomservice,FoodCourt, ShoppingMall, Spa, VRDeck but this are categorical features. therefor we treat outliers for only Age"
   ]
  },
  {
   "cell_type": "code",
   "execution_count": null,
   "id": "4320edbf",
   "metadata": {},
   "outputs": [],
   "source": [
    "#Outliers treatment for Age\n",
    "space.boxplot(column=\"Age\")"
   ]
  },
  {
   "cell_type": "code",
   "execution_count": null,
   "id": "726d8afa",
   "metadata": {},
   "outputs": [],
   "source": [
    "sns.distplot(space[\"Age\"])   #normal distributed graph so we use standard deviation method"
   ]
  },
  {
   "cell_type": "code",
   "execution_count": null,
   "id": "1f8f9fd9",
   "metadata": {},
   "outputs": [],
   "source": [
    "space.Age.describe()"
   ]
  },
  {
   "cell_type": "code",
   "execution_count": null,
   "id": "1df2d527",
   "metadata": {},
   "outputs": [],
   "source": [
    "upper=space[\"Age\"].mean()+3*space[\"Age\"].std()\n",
    "upper"
   ]
  },
  {
   "cell_type": "code",
   "execution_count": null,
   "id": "9be320a1",
   "metadata": {},
   "outputs": [],
   "source": [
    "space.loc[space[\"Age\"]>72,\"Age\"]=72"
   ]
  },
  {
   "cell_type": "code",
   "execution_count": null,
   "id": "b5e65d27",
   "metadata": {},
   "outputs": [],
   "source": [
    "#space.boxplot(column=\"Age\")"
   ]
  },
  {
   "cell_type": "markdown",
   "id": "c45d5d43",
   "metadata": {},
   "source": [
    "# Skewness"
   ]
  },
  {
   "cell_type": "code",
   "execution_count": null,
   "id": "00108ede",
   "metadata": {},
   "outputs": [],
   "source": [
    "#skewness\n",
    "space.skew()"
   ]
  },
  {
   "cell_type": "code",
   "execution_count": null,
   "id": "d0d4594f",
   "metadata": {},
   "outputs": [],
   "source": []
  },
  {
   "cell_type": "markdown",
   "id": "5dcfc7dd",
   "metadata": {},
   "source": [
    "# Model on Training data to check performnance"
   ]
  },
  {
   "cell_type": "code",
   "execution_count": null,
   "id": "21b68080",
   "metadata": {},
   "outputs": [],
   "source": [
    "x=space.iloc[:,0:-1]\n",
    "y=space.iloc[:,-1]"
   ]
  },
  {
   "cell_type": "code",
   "execution_count": null,
   "id": "0a449ff1",
   "metadata": {},
   "outputs": [],
   "source": [
    "from sklearn.model_selection import train_test_split\n",
    "x_train,x_test,y_train,y_test=train_test_split(x,y,test_size=0.2,random_state=100)"
   ]
  },
  {
   "cell_type": "code",
   "execution_count": null,
   "id": "b9c93153",
   "metadata": {},
   "outputs": [],
   "source": [
    "x_train.shape,x_test.shape,y_train.shape,y_test.shape"
   ]
  },
  {
   "cell_type": "markdown",
   "id": "5cbe988f",
   "metadata": {},
   "source": [
    "# Logistic Regression"
   ]
  },
  {
   "cell_type": "code",
   "execution_count": null,
   "id": "36e0beee",
   "metadata": {},
   "outputs": [],
   "source": [
    "from sklearn.linear_model import LogisticRegression\n",
    "lg=LogisticRegression()"
   ]
  },
  {
   "cell_type": "code",
   "execution_count": null,
   "id": "099af6cf",
   "metadata": {},
   "outputs": [],
   "source": [
    "lg.fit(x_train,y_train)"
   ]
  },
  {
   "cell_type": "code",
   "execution_count": null,
   "id": "c48a5577",
   "metadata": {},
   "outputs": [],
   "source": [
    "lg_pred=lg.predict(x_test)\n",
    "#lg_pred"
   ]
  },
  {
   "cell_type": "code",
   "execution_count": null,
   "id": "9ca6f444",
   "metadata": {},
   "outputs": [],
   "source": [
    "from sklearn.metrics import confusion_matrix"
   ]
  },
  {
   "cell_type": "code",
   "execution_count": null,
   "id": "d6d25614",
   "metadata": {},
   "outputs": [],
   "source": [
    "m1=confusion_matrix(lg_pred,y_test)\n",
    "m1"
   ]
  },
  {
   "cell_type": "code",
   "execution_count": null,
   "id": "8b4924dd",
   "metadata": {},
   "outputs": [],
   "source": [
    "ac1=m1.diagonal().sum()/m1.sum()*100\n",
    "ac1"
   ]
  },
  {
   "cell_type": "code",
   "execution_count": null,
   "id": "5bdc3d95",
   "metadata": {},
   "outputs": [],
   "source": [
    "from sklearn.metrics import classification_report"
   ]
  },
  {
   "cell_type": "code",
   "execution_count": null,
   "id": "ffa2b35a",
   "metadata": {},
   "outputs": [],
   "source": [
    "print(classification_report(lg_pred,y_test))"
   ]
  },
  {
   "cell_type": "markdown",
   "id": "57b0b04c",
   "metadata": {},
   "source": [
    "# Decision Tree"
   ]
  },
  {
   "cell_type": "code",
   "execution_count": null,
   "id": "501678c2",
   "metadata": {},
   "outputs": [],
   "source": [
    "from sklearn.tree import DecisionTreeClassifier\n",
    "dt=DecisionTreeClassifier()"
   ]
  },
  {
   "cell_type": "code",
   "execution_count": null,
   "id": "88e9ea94",
   "metadata": {},
   "outputs": [],
   "source": [
    "dt.fit(x_train,y_train)"
   ]
  },
  {
   "cell_type": "code",
   "execution_count": null,
   "id": "28366dc4",
   "metadata": {},
   "outputs": [],
   "source": [
    "dt_pred=dt.predict(x_test)\n",
    "dt_pred"
   ]
  },
  {
   "cell_type": "code",
   "execution_count": null,
   "id": "36213b75",
   "metadata": {},
   "outputs": [],
   "source": [
    "dt.feature_importances_"
   ]
  },
  {
   "cell_type": "code",
   "execution_count": null,
   "id": "38cdf49a",
   "metadata": {},
   "outputs": [],
   "source": [
    "m2=confusion_matrix(dt_pred,y_test)\n",
    "m2"
   ]
  },
  {
   "cell_type": "code",
   "execution_count": null,
   "id": "f31d4750",
   "metadata": {},
   "outputs": [],
   "source": [
    "dt_acc=m2.diagonal().sum()/m2.sum()*100\n",
    "dt_acc"
   ]
  },
  {
   "cell_type": "code",
   "execution_count": null,
   "id": "33fecbf5",
   "metadata": {},
   "outputs": [],
   "source": [
    "print(classification_report(dt_pred,y_test))"
   ]
  },
  {
   "cell_type": "markdown",
   "id": "76a3bd65",
   "metadata": {},
   "source": [
    "# Random Forest"
   ]
  },
  {
   "cell_type": "code",
   "execution_count": null,
   "id": "723875ba",
   "metadata": {},
   "outputs": [],
   "source": [
    "#1. supervised learning technique\n",
    "# best fittesd for categorical data\n",
    "# Black box algorithm=  We can't control the tree formation\n",
    "#working on the basis of ensemble technique(bagging)\n",
    "#combine the weak learners and give the powerful model\n",
    "#it will take voting from each sample tree and give the final decision"
   ]
  },
  {
   "cell_type": "code",
   "execution_count": null,
   "id": "86bff8fe",
   "metadata": {},
   "outputs": [],
   "source": [
    "from sklearn.ensemble import RandomForestClassifier\n",
    "rf=RandomForestClassifier()"
   ]
  },
  {
   "cell_type": "code",
   "execution_count": null,
   "id": "e1c09543",
   "metadata": {},
   "outputs": [],
   "source": [
    "rf.fit(x_train,y_train)"
   ]
  },
  {
   "cell_type": "code",
   "execution_count": null,
   "id": "523e9dc7",
   "metadata": {},
   "outputs": [],
   "source": [
    "rf_pred=rf.predict(x_test)\n",
    "rf_pred"
   ]
  },
  {
   "cell_type": "code",
   "execution_count": null,
   "id": "768dd992",
   "metadata": {},
   "outputs": [],
   "source": [
    "m3=confusion_matrix(rf_pred,y_test)\n",
    "m3"
   ]
  },
  {
   "cell_type": "code",
   "execution_count": null,
   "id": "d66c81d0",
   "metadata": {},
   "outputs": [],
   "source": [
    "acc_rf=m3.diagonal().sum()/m3.sum()*100\n",
    "acc_rf"
   ]
  },
  {
   "cell_type": "code",
   "execution_count": null,
   "id": "8c368dd0",
   "metadata": {},
   "outputs": [],
   "source": [
    "print(classification_report(rf_pred,y_test))"
   ]
  },
  {
   "cell_type": "markdown",
   "id": "5d068aab",
   "metadata": {},
   "source": [
    "# Boosting"
   ]
  },
  {
   "cell_type": "code",
   "execution_count": null,
   "id": "a759a668",
   "metadata": {},
   "outputs": [],
   "source": [
    "from sklearn.ensemble import AdaBoostClassifier\n",
    "from sklearn.tree import DecisionTreeClassifier"
   ]
  },
  {
   "cell_type": "code",
   "execution_count": null,
   "id": "b37e9aaa",
   "metadata": {},
   "outputs": [],
   "source": [
    "ab=AdaBoostClassifier(DecisionTreeClassifier(),n_estimators=5)"
   ]
  },
  {
   "cell_type": "code",
   "execution_count": null,
   "id": "70648dbe",
   "metadata": {},
   "outputs": [],
   "source": [
    "ab.fit(x_train,y_train)"
   ]
  },
  {
   "cell_type": "code",
   "execution_count": null,
   "id": "d3198d9a",
   "metadata": {},
   "outputs": [],
   "source": [
    "ab_pred=ab.predict(x_test)\n",
    "ab_pred"
   ]
  },
  {
   "cell_type": "code",
   "execution_count": null,
   "id": "d55b418d",
   "metadata": {},
   "outputs": [],
   "source": [
    "m_ab=confusion_matrix(ab_pred,y_test)\n",
    "m_ab"
   ]
  },
  {
   "cell_type": "code",
   "execution_count": null,
   "id": "dbdd6b80",
   "metadata": {},
   "outputs": [],
   "source": [
    "acc_ab=m_ab.diagonal().sum()/m_ab.sum()*100\n",
    "acc_ab"
   ]
  },
  {
   "cell_type": "code",
   "execution_count": null,
   "id": "1454574a",
   "metadata": {},
   "outputs": [],
   "source": [
    "print(classification_report(ab_pred,y_test))"
   ]
  },
  {
   "cell_type": "markdown",
   "id": "3cb387b2",
   "metadata": {},
   "source": [
    "# XG Boost"
   ]
  },
  {
   "cell_type": "code",
   "execution_count": null,
   "id": "05ec82be",
   "metadata": {},
   "outputs": [],
   "source": [
    "from xgboost import XGBClassifier\n",
    "xg=XGBClassifier()"
   ]
  },
  {
   "cell_type": "code",
   "execution_count": null,
   "id": "896415cb",
   "metadata": {},
   "outputs": [],
   "source": [
    "xg.fit(x_train,y_train)"
   ]
  },
  {
   "cell_type": "code",
   "execution_count": null,
   "id": "d53f11e5",
   "metadata": {},
   "outputs": [],
   "source": [
    "xg_pred=xg.predict(x_test)\n",
    "xg_pred"
   ]
  },
  {
   "cell_type": "code",
   "execution_count": null,
   "id": "2e0bbdcd",
   "metadata": {},
   "outputs": [],
   "source": [
    "m_xg=confusion_matrix(xg_pred,y_test)\n",
    "m_xg"
   ]
  },
  {
   "cell_type": "code",
   "execution_count": null,
   "id": "db9b34bc",
   "metadata": {},
   "outputs": [],
   "source": [
    "acc_xg=m_xg.diagonal().sum()/m_xg.sum()*100\n",
    "acc_xg"
   ]
  },
  {
   "cell_type": "code",
   "execution_count": null,
   "id": "26f615e6",
   "metadata": {},
   "outputs": [],
   "source": [
    "print(classification_report(xg_pred,y_test))"
   ]
  },
  {
   "cell_type": "code",
   "execution_count": null,
   "id": "7614ecb4",
   "metadata": {},
   "outputs": [],
   "source": [
    "#XGBoost best suited for this model"
   ]
  },
  {
   "cell_type": "markdown",
   "id": "b91ad75b",
   "metadata": {},
   "source": [
    "# K-Nerest Neighbour"
   ]
  },
  {
   "cell_type": "code",
   "execution_count": null,
   "id": "6d802d10",
   "metadata": {},
   "outputs": [],
   "source": [
    "from sklearn.neighbors import KNeighborsClassifier\n",
    "kn=KNeighborsClassifier(n_neighbors=20)"
   ]
  },
  {
   "cell_type": "code",
   "execution_count": null,
   "id": "b273e635",
   "metadata": {},
   "outputs": [],
   "source": [
    "kn.fit(x_train,y_train)"
   ]
  },
  {
   "cell_type": "code",
   "execution_count": null,
   "id": "5543b4e7",
   "metadata": {},
   "outputs": [],
   "source": [
    "kn_pred=kn.predict(x_test)\n",
    "kn_pred"
   ]
  },
  {
   "cell_type": "code",
   "execution_count": null,
   "id": "614d31eb",
   "metadata": {},
   "outputs": [],
   "source": [
    "m_kn=confusion_matrix(kn_pred,y_test)\n",
    "m_kn"
   ]
  },
  {
   "cell_type": "code",
   "execution_count": null,
   "id": "2357e5e7",
   "metadata": {},
   "outputs": [],
   "source": [
    "acc_kn=m_kn.diagonal().sum()/m_kn.sum()*100\n",
    "acc_kn"
   ]
  },
  {
   "cell_type": "code",
   "execution_count": null,
   "id": "d19d6796",
   "metadata": {},
   "outputs": [],
   "source": [
    "print(classification_report(kn_pred,y_test)) "
   ]
  },
  {
   "cell_type": "code",
   "execution_count": null,
   "id": "4ba8fcbe",
   "metadata": {},
   "outputs": [],
   "source": [
    "l=list()"
   ]
  },
  {
   "cell_type": "code",
   "execution_count": null,
   "id": "a95245fa",
   "metadata": {},
   "outputs": [],
   "source": [
    "for i in range (1,100):\n",
    "    kn=KNeighborsClassifier(n_neighbors=i)\n",
    "    kn.fit(x_train,y_train)\n",
    "    kn_pred=kn.predict(x_test)\n",
    "    c=confusion_matrix(kn_pred,y_test)\n",
    "    acc=c.diagonal().sum()/c.sum()*100\n",
    "    l.append(acc)"
   ]
  },
  {
   "cell_type": "code",
   "execution_count": null,
   "id": "20f361eb",
   "metadata": {},
   "outputs": [],
   "source": [
    "import matplotlib.pyplot as plt"
   ]
  },
  {
   "cell_type": "code",
   "execution_count": null,
   "id": "53884d9e",
   "metadata": {},
   "outputs": [],
   "source": [
    "p=plt.plot(l)"
   ]
  },
  {
   "cell_type": "code",
   "execution_count": null,
   "id": "6181352e",
   "metadata": {},
   "outputs": [],
   "source": [
    "#KNN is not suitable for the model as accuracy is not stable"
   ]
  },
  {
   "cell_type": "markdown",
   "id": "68264779",
   "metadata": {},
   "source": [
    "# Support Vector Machine"
   ]
  },
  {
   "cell_type": "code",
   "execution_count": null,
   "id": "7d0ac9a5",
   "metadata": {},
   "outputs": [],
   "source": [
    "from sklearn.svm import SVC\n",
    "sm=SVC()"
   ]
  },
  {
   "cell_type": "code",
   "execution_count": null,
   "id": "98e0eec0",
   "metadata": {},
   "outputs": [],
   "source": [
    "sm.fit(x_train,y_train)"
   ]
  },
  {
   "cell_type": "code",
   "execution_count": null,
   "id": "eedfcf28",
   "metadata": {},
   "outputs": [],
   "source": [
    "sm_pred=sm.predict(x_test)\n",
    "sm_pred"
   ]
  },
  {
   "cell_type": "code",
   "execution_count": null,
   "id": "0b9ba92b",
   "metadata": {},
   "outputs": [],
   "source": [
    "m_sm=confusion_matrix(sm_pred,y_test)\n",
    "m_sm"
   ]
  },
  {
   "cell_type": "code",
   "execution_count": null,
   "id": "027ee07a",
   "metadata": {},
   "outputs": [],
   "source": [
    "acc_sm=m_sm.diagonal().sum()/m_sm.sum()*100\n",
    "acc_sm"
   ]
  },
  {
   "cell_type": "code",
   "execution_count": null,
   "id": "820218c8",
   "metadata": {},
   "outputs": [],
   "source": [
    "print(classification_report(sm_pred,y_test))"
   ]
  },
  {
   "cell_type": "markdown",
   "id": "dc877dc4",
   "metadata": {},
   "source": [
    "# Test File"
   ]
  },
  {
   "cell_type": "code",
   "execution_count": null,
   "id": "12a5056e",
   "metadata": {},
   "outputs": [],
   "source": [
    "data2=space_test[\"PassengerId\"]\n",
    "data2"
   ]
  },
  {
   "cell_type": "code",
   "execution_count": null,
   "id": "1c0705f0",
   "metadata": {},
   "outputs": [],
   "source": [
    "space_test=space_test.drop([\"Cabin\",\"PassengerId\"],axis=1)"
   ]
  },
  {
   "cell_type": "code",
   "execution_count": null,
   "id": "090a241e",
   "metadata": {},
   "outputs": [],
   "source": [
    "space_test.isnull().sum()"
   ]
  },
  {
   "cell_type": "code",
   "execution_count": null,
   "id": "91bbb0dd",
   "metadata": {},
   "outputs": [],
   "source": [
    "space_test.HomePlanet=space_test.HomePlanet.fillna(\"Mars\")    \n",
    "space_test.Age=space_test.Age.fillna(space.Age.mean())\n",
    "space_test.Destination=space_test.Destination.fillna(\"PSO J318.5-22\")  \n",
    "space_test.VRDeck=space_test.RoomService.fillna(0.0)\n",
    "space_test.ShoppingMall=space_test.RoomService.fillna(0.0)\n",
    "space_test.RoomService=space_test.RoomService.fillna(0.0)\n",
    "space_test.FoodCourt=space_test.RoomService.fillna(0.0)\n",
    "space_test.Spa=space_test.RoomService.fillna(0.0)\n",
    "space_test.CryoSleep=space_test.CryoSleep.fillna(True)\n",
    "space_test.VIP=space_test.VIP.fillna(True)\n",
    "space_test.Name=space_test.Name.fillna(\"Unknown\")"
   ]
  },
  {
   "cell_type": "code",
   "execution_count": null,
   "id": "ecd43735",
   "metadata": {},
   "outputs": [],
   "source": [
    "#space_test.Destination.value_counts()\n",
    "space_test.dtypes"
   ]
  },
  {
   "cell_type": "code",
   "execution_count": null,
   "id": "519955ae",
   "metadata": {},
   "outputs": [],
   "source": [
    "space_test[\"Destination\"]=le.fit_transform(space_test[\"Destination\"])\n",
    "space_test[\"Name\"]=le.fit_transform(space_test[\"Name\"])"
   ]
  },
  {
   "cell_type": "code",
   "execution_count": null,
   "id": "87f259c6",
   "metadata": {},
   "outputs": [],
   "source": [
    "space_test[\"HomePlanet\"]=le.fit_transform(space_test[\"HomePlanet\"])"
   ]
  },
  {
   "cell_type": "code",
   "execution_count": null,
   "id": "e5424d95",
   "metadata": {},
   "outputs": [],
   "source": [
    "space_test.VIP.replace({False:0,True:1},inplace=True)\n",
    "space_test.CryoSleep.replace({False:0,True:1},inplace=True)"
   ]
  },
  {
   "cell_type": "code",
   "execution_count": null,
   "id": "684172d1",
   "metadata": {},
   "outputs": [],
   "source": [
    "space_test.head()"
   ]
  },
  {
   "cell_type": "code",
   "execution_count": null,
   "id": "da829468",
   "metadata": {},
   "outputs": [],
   "source": [
    "space.head()"
   ]
  },
  {
   "cell_type": "code",
   "execution_count": null,
   "id": "264adbb7",
   "metadata": {},
   "outputs": [],
   "source": [
    "##Prediction of which passengers are transported to an alternate dimension"
   ]
  },
  {
   "cell_type": "code",
   "execution_count": null,
   "id": "b6f8a6fe",
   "metadata": {},
   "outputs": [],
   "source": [
    "tr_x=space.iloc[:,0:10]\n",
    "tr_y=space.iloc[:,-1]\n",
    "te_x=space_test.iloc[:,0:10]"
   ]
  },
  {
   "cell_type": "code",
   "execution_count": null,
   "id": "3379fd95",
   "metadata": {},
   "outputs": [],
   "source": [
    "te_x.shape,tr_x.shape,tr_y.shape"
   ]
  },
  {
   "cell_type": "code",
   "execution_count": null,
   "id": "f82bc001",
   "metadata": {},
   "outputs": [],
   "source": [
    "te_x.head()"
   ]
  },
  {
   "cell_type": "code",
   "execution_count": null,
   "id": "62e97fb0",
   "metadata": {},
   "outputs": [],
   "source": [
    "xg.fit(tr_x,tr_y)"
   ]
  },
  {
   "cell_type": "code",
   "execution_count": null,
   "id": "c4897297",
   "metadata": {},
   "outputs": [],
   "source": [
    "xg_pred=xg.predict(te_x)\n",
    "xg_pred"
   ]
  },
  {
   "cell_type": "code",
   "execution_count": null,
   "id": "6b4475cc",
   "metadata": {},
   "outputs": [],
   "source": [
    "df=pd.DataFrame(xg_pred,columns=[\"Transported\"])\n",
    "df"
   ]
  },
  {
   "cell_type": "code",
   "execution_count": null,
   "id": "8edfb3ab",
   "metadata": {},
   "outputs": [],
   "source": [
    "d1=pd.DataFrame(data2)\n",
    "d1"
   ]
  },
  {
   "cell_type": "code",
   "execution_count": null,
   "id": "04bb8d44",
   "metadata": {},
   "outputs": [],
   "source": [
    "result=pd.concat([d1,df],axis=1)\n",
    "result"
   ]
  },
  {
   "cell_type": "code",
   "execution_count": null,
   "id": "ce81302b",
   "metadata": {},
   "outputs": [],
   "source": [
    "result.Transported.replace({1:True,0:False},inplace=True)"
   ]
  },
  {
   "cell_type": "code",
   "execution_count": null,
   "id": "59b927d5",
   "metadata": {},
   "outputs": [],
   "source": [
    "result"
   ]
  },
  {
   "cell_type": "code",
   "execution_count": null,
   "id": "a15ede52",
   "metadata": {},
   "outputs": [],
   "source": [
    "result.to_csv(r\"C:\\Users\\HP\\Desktop\\python1\\Space\\Sample_Submission for titanic.csv\",index=False)"
   ]
  },
  {
   "cell_type": "code",
   "execution_count": null,
   "id": "69a73f61",
   "metadata": {},
   "outputs": [],
   "source": []
  }
 ],
 "metadata": {
  "kernelspec": {
   "display_name": "Python 3 (ipykernel)",
   "language": "python",
   "name": "python3"
  },
  "language_info": {
   "codemirror_mode": {
    "name": "ipython",
    "version": 3
   },
   "file_extension": ".py",
   "mimetype": "text/x-python",
   "name": "python",
   "nbconvert_exporter": "python",
   "pygments_lexer": "ipython3",
   "version": "3.9.13"
  }
 },
 "nbformat": 4,
 "nbformat_minor": 5
}
